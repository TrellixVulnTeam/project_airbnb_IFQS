{
 "cells": [
  {
   "cell_type": "markdown",
   "id": "7a3335fd",
   "metadata": {},
   "source": [
    "# Entender o problema"
   ]
  },
  {
   "cell_type": "markdown",
   "id": "fbf53906",
   "metadata": {},
   "source": [
    "* Objetivo do problema:\n",
    "    * 1.0. Previsão do primeiro destino que um novo usuario ira escolher.\n",
    "    \n",
    "    * Porque?\n",
    "        * Qual tipo de modelo de negócio do Airbnb?\n",
    "            * Marketplace (conecta pessoas que oferecem algo com pessoas que estao procurando algo)\n",
    "            * Oferta (pessoas oferecendo acomodacao)\n",
    "                * Tamanhop do portfolio\n",
    "                * Diversidade e densidade de portfolio\n",
    "                * Preco medio\n",
    "                \n",
    "            * Demanda (pessoas procurando acomodacao)\n",
    "                * Numero de usuarios\n",
    "                * LTV (lifetime value)\n",
    "                * CAC (client acquisition cost)\n",
    "                \n",
    "                Gross Revenue = (fee * Numero Cliente) - CAC\n",
    "                \n",
    "* Proposta da solucao\n",
    "    * Modelo de previsao do primeiro destino do usuario\n",
    "    * 1.0. Predicoes e salvar em uma tabela do BD\n",
    "    * 2.0. API\n",
    "        * Input: usuario e suas caracteristicas\n",
    "        * Output: usuaruio e suas caracteristicas com a predicao do destino\n",
    "    * 16 ciclos"
   ]
  },
  {
   "cell_type": "markdown",
   "id": "e17bc73e",
   "metadata": {
    "heading_collapsed": true
   },
   "source": [
    "# <font color='red'>Ciclo end-to-end</font>"
   ]
  },
  {
   "cell_type": "markdown",
   "id": "6955cd83",
   "metadata": {},
   "source": [
    "# 0.0. Imports"
   ]
  },
  {
   "cell_type": "markdown",
   "id": "35a951a3",
   "metadata": {},
   "source": [
    "# 1.0. Data Description"
   ]
  },
  {
   "cell_type": "markdown",
   "id": "70b477c2",
   "metadata": {},
   "source": [
    "# 2.0. Data Filtering"
   ]
  },
  {
   "cell_type": "markdown",
   "id": "913e332f",
   "metadata": {},
   "source": [
    "# 3.0. Data Preparation"
   ]
  },
  {
   "cell_type": "markdown",
   "id": "cc0d2b3b",
   "metadata": {},
   "source": [
    "# 4.0. Neural Network - Multi-Layer Perceptron"
   ]
  },
  {
   "cell_type": "markdown",
   "id": "4d484919",
   "metadata": {},
   "source": [
    "# 5.0. Neural Network Performance"
   ]
  }
 ],
 "metadata": {
  "kernelspec": {
   "display_name": "Python 3 (ipykernel)",
   "language": "python",
   "name": "python3"
  },
  "language_info": {
   "codemirror_mode": {
    "name": "ipython",
    "version": 3
   },
   "file_extension": ".py",
   "mimetype": "text/x-python",
   "name": "python",
   "nbconvert_exporter": "python",
   "pygments_lexer": "ipython3",
   "version": "3.8.8"
  }
 },
 "nbformat": 4,
 "nbformat_minor": 5
}
